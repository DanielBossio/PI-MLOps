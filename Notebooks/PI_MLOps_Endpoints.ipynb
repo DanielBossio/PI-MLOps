{
  "nbformat": 4,
  "nbformat_minor": 0,
  "metadata": {
    "colab": {
      "provenance": []
    },
    "kernelspec": {
      "name": "python3",
      "display_name": "Python 3"
    },
    "language_info": {
      "name": "python"
    }
  },
  "cells": [
    {
      "cell_type": "code",
      "execution_count": 1,
      "metadata": {
        "colab": {
          "base_uri": "https://localhost:8080/"
        },
        "id": "xbmWvQTE_9Lh",
        "outputId": "92d6aece-e51c-40ab-9cdb-2910dcf128ec"
      },
      "outputs": [
        {
          "output_type": "stream",
          "name": "stdout",
          "text": [
            "Mounted at /content/drive\n"
          ]
        }
      ],
      "source": [
        "from google.colab import drive\n",
        "drive.mount('/content/drive')"
      ]
    },
    {
      "cell_type": "code",
      "source": [
        "import pandas as pd\n",
        "import json\n",
        "import re"
      ],
      "metadata": {
        "id": "tzGJalSrA8zp"
      },
      "execution_count": 2,
      "outputs": []
    },
    {
      "cell_type": "code",
      "source": [
        "juegos = pd.read_csv('/content/drive/MyDrive/games.csv')\n",
        "items = pd.read_csv('/content/drive/MyDrive/items.csv')\n",
        "reviews = pd.read_csv('/content/drive/MyDrive/reviews.csv')"
      ],
      "metadata": {
        "id": "qSeSXYBDnVee"
      },
      "execution_count": 11,
      "outputs": []
    },
    {
      "cell_type": "code",
      "source": [
        "patron = re.compile(r'\\d+.*\\d*')\n",
        "\n",
        "juegos.release_date = pd.to_datetime(juegos.release_date)\n",
        "juegos['año'] = juegos.release_date.dt.year\n",
        "juegos[\"free\"] = juegos.price.apply(lambda x: \"free to play\".find(x.lower().strip()) >= 0)\n",
        "juegos[\"price\"] = juegos.price.apply(lambda x: float(x) if patron.fullmatch(x) else 0)\n",
        "juegos[\"price\"] = juegos.price.astype(float, errors='ignore')"
      ],
      "metadata": {
        "id": "7w5mkGmNoMOW"
      },
      "execution_count": 12,
      "outputs": []
    },
    {
      "cell_type": "code",
      "source": [
        "print(items.head())"
      ],
      "metadata": {
        "colab": {
          "base_uri": "https://localhost:8080/"
        },
        "id": "6sGrCduW6miW",
        "outputId": "e32fc653-0683-45d9-9c3f-2b3884696f46"
      },
      "execution_count": 4,
      "outputs": [
        {
          "output_type": "stream",
          "name": "stdout",
          "text": [
            "   item_id  playtime_forever            user_id\n",
            "0       10                 6  76561197970982479\n",
            "1       20                 0  76561197970982479\n",
            "2       30                 7  76561197970982479\n",
            "3       40                 0  76561197970982479\n",
            "4       50                 0  76561197970982479\n"
          ]
        }
      ]
    },
    {
      "cell_type": "code",
      "source": [
        "print(reviews.head())"
      ],
      "metadata": {
        "colab": {
          "base_uri": "https://localhost:8080/"
        },
        "id": "ewNPrGg96ti8",
        "outputId": "33989abc-c418-4e97-df0b-5438ad5876ee"
      },
      "execution_count": 5,
      "outputs": [
        {
          "output_type": "stream",
          "name": "stdout",
          "text": [
            "   item_id  recommend                                             review  \\\n",
            "0     1250       True  Simple yet with great replayability. In my opi...   \n",
            "1    22200       True               It's unique and worth a playthrough.   \n",
            "2    43110       True  Great atmosphere. The gunplay can be a bit chu...   \n",
            "3   251610       True  I know what you think when you see this title ...   \n",
            "4   227300       True  For a simple (it's actually not all that simpl...   \n",
            "\n",
            "             user_id  sentiment_analysis  \n",
            "0  76561197970982479                   2  \n",
            "1  76561197970982479                   1  \n",
            "2  76561197970982479                   2  \n",
            "3            js41637                   2  \n",
            "4            js41637                   2  \n"
          ]
        }
      ]
    },
    {
      "cell_type": "code",
      "source": [
        "\"\"\"\n",
        "  Cantidad de items y porcentaje de contenido Free por año según empresa desarrolladora\n",
        "\"\"\"\n",
        "def developer(developer: str):\n",
        "  #Obtener la información de los juegos\n",
        "  df = juegos[juegos[\"developer\"] == developer][[\"año\", \"app_name\", \"free\"]]\n",
        "\n",
        "  #Agrupar por año y contar la cantidad de items y\n",
        "  conteo = df.groupby(\"año\")[\"app_name\"].count().reset_index().sort_values(by=\"año\")\n",
        "  conteo.año = conteo.año.astype(int)\n",
        "\n",
        "  #Agrupar por año y contar el porcentaje de Free to Play\n",
        "  free = df.groupby(\"año\")[\"free\"].sum().reset_index().sort_values(by=\"año\")\n",
        "  free.año = free.año.astype(int)\n",
        "\n",
        "  #Unir los dos dataframes\n",
        "  conteo = pd.merge(conteo, free, on=\"año\")\n",
        "  conteo.free = round(conteo.free/conteo.app_name*100,2)\n",
        "  return conteo\n",
        "\n",
        "developer(\"Valve\")"
      ],
      "metadata": {
        "id": "oiikGPKQ22VS",
        "colab": {
          "base_uri": "https://localhost:8080/",
          "height": 583
        },
        "outputId": "8f4b02ac-0e6d-4056-cd20-acf836d47d08"
      },
      "execution_count": 13,
      "outputs": [
        {
          "output_type": "execute_result",
          "data": {
            "text/plain": [
              "     año  app_name    free\n",
              "0   1998         1    0.00\n",
              "1   1999         1    0.00\n",
              "2   2000         2    0.00\n",
              "3   2001         1    0.00\n",
              "4   2003         1    0.00\n",
              "5   2004         5    0.00\n",
              "6   2005         1    0.00\n",
              "7   2006         2    0.00\n",
              "8   2007         3   33.33\n",
              "9   2008         1    0.00\n",
              "10  2009         1    0.00\n",
              "11  2010         2   50.00\n",
              "12  2011         1    0.00\n",
              "13  2012         2    0.00\n",
              "14  2014         7    0.00\n",
              "15  2016         1  100.00\n",
              "16  2017         2    0.00"
            ],
            "text/html": [
              "\n",
              "  <div id=\"df-f9b59be5-7d88-4deb-a2fc-ad1a6d33759f\" class=\"colab-df-container\">\n",
              "    <div>\n",
              "<style scoped>\n",
              "    .dataframe tbody tr th:only-of-type {\n",
              "        vertical-align: middle;\n",
              "    }\n",
              "\n",
              "    .dataframe tbody tr th {\n",
              "        vertical-align: top;\n",
              "    }\n",
              "\n",
              "    .dataframe thead th {\n",
              "        text-align: right;\n",
              "    }\n",
              "</style>\n",
              "<table border=\"1\" class=\"dataframe\">\n",
              "  <thead>\n",
              "    <tr style=\"text-align: right;\">\n",
              "      <th></th>\n",
              "      <th>año</th>\n",
              "      <th>app_name</th>\n",
              "      <th>free</th>\n",
              "    </tr>\n",
              "  </thead>\n",
              "  <tbody>\n",
              "    <tr>\n",
              "      <th>0</th>\n",
              "      <td>1998</td>\n",
              "      <td>1</td>\n",
              "      <td>0.00</td>\n",
              "    </tr>\n",
              "    <tr>\n",
              "      <th>1</th>\n",
              "      <td>1999</td>\n",
              "      <td>1</td>\n",
              "      <td>0.00</td>\n",
              "    </tr>\n",
              "    <tr>\n",
              "      <th>2</th>\n",
              "      <td>2000</td>\n",
              "      <td>2</td>\n",
              "      <td>0.00</td>\n",
              "    </tr>\n",
              "    <tr>\n",
              "      <th>3</th>\n",
              "      <td>2001</td>\n",
              "      <td>1</td>\n",
              "      <td>0.00</td>\n",
              "    </tr>\n",
              "    <tr>\n",
              "      <th>4</th>\n",
              "      <td>2003</td>\n",
              "      <td>1</td>\n",
              "      <td>0.00</td>\n",
              "    </tr>\n",
              "    <tr>\n",
              "      <th>5</th>\n",
              "      <td>2004</td>\n",
              "      <td>5</td>\n",
              "      <td>0.00</td>\n",
              "    </tr>\n",
              "    <tr>\n",
              "      <th>6</th>\n",
              "      <td>2005</td>\n",
              "      <td>1</td>\n",
              "      <td>0.00</td>\n",
              "    </tr>\n",
              "    <tr>\n",
              "      <th>7</th>\n",
              "      <td>2006</td>\n",
              "      <td>2</td>\n",
              "      <td>0.00</td>\n",
              "    </tr>\n",
              "    <tr>\n",
              "      <th>8</th>\n",
              "      <td>2007</td>\n",
              "      <td>3</td>\n",
              "      <td>33.33</td>\n",
              "    </tr>\n",
              "    <tr>\n",
              "      <th>9</th>\n",
              "      <td>2008</td>\n",
              "      <td>1</td>\n",
              "      <td>0.00</td>\n",
              "    </tr>\n",
              "    <tr>\n",
              "      <th>10</th>\n",
              "      <td>2009</td>\n",
              "      <td>1</td>\n",
              "      <td>0.00</td>\n",
              "    </tr>\n",
              "    <tr>\n",
              "      <th>11</th>\n",
              "      <td>2010</td>\n",
              "      <td>2</td>\n",
              "      <td>50.00</td>\n",
              "    </tr>\n",
              "    <tr>\n",
              "      <th>12</th>\n",
              "      <td>2011</td>\n",
              "      <td>1</td>\n",
              "      <td>0.00</td>\n",
              "    </tr>\n",
              "    <tr>\n",
              "      <th>13</th>\n",
              "      <td>2012</td>\n",
              "      <td>2</td>\n",
              "      <td>0.00</td>\n",
              "    </tr>\n",
              "    <tr>\n",
              "      <th>14</th>\n",
              "      <td>2014</td>\n",
              "      <td>7</td>\n",
              "      <td>0.00</td>\n",
              "    </tr>\n",
              "    <tr>\n",
              "      <th>15</th>\n",
              "      <td>2016</td>\n",
              "      <td>1</td>\n",
              "      <td>100.00</td>\n",
              "    </tr>\n",
              "    <tr>\n",
              "      <th>16</th>\n",
              "      <td>2017</td>\n",
              "      <td>2</td>\n",
              "      <td>0.00</td>\n",
              "    </tr>\n",
              "  </tbody>\n",
              "</table>\n",
              "</div>\n",
              "    <div class=\"colab-df-buttons\">\n",
              "\n",
              "  <div class=\"colab-df-container\">\n",
              "    <button class=\"colab-df-convert\" onclick=\"convertToInteractive('df-f9b59be5-7d88-4deb-a2fc-ad1a6d33759f')\"\n",
              "            title=\"Convert this dataframe to an interactive table.\"\n",
              "            style=\"display:none;\">\n",
              "\n",
              "  <svg xmlns=\"http://www.w3.org/2000/svg\" height=\"24px\" viewBox=\"0 -960 960 960\">\n",
              "    <path d=\"M120-120v-720h720v720H120Zm60-500h600v-160H180v160Zm220 220h160v-160H400v160Zm0 220h160v-160H400v160ZM180-400h160v-160H180v160Zm440 0h160v-160H620v160ZM180-180h160v-160H180v160Zm440 0h160v-160H620v160Z\"/>\n",
              "  </svg>\n",
              "    </button>\n",
              "\n",
              "  <style>\n",
              "    .colab-df-container {\n",
              "      display:flex;\n",
              "      gap: 12px;\n",
              "    }\n",
              "\n",
              "    .colab-df-convert {\n",
              "      background-color: #E8F0FE;\n",
              "      border: none;\n",
              "      border-radius: 50%;\n",
              "      cursor: pointer;\n",
              "      display: none;\n",
              "      fill: #1967D2;\n",
              "      height: 32px;\n",
              "      padding: 0 0 0 0;\n",
              "      width: 32px;\n",
              "    }\n",
              "\n",
              "    .colab-df-convert:hover {\n",
              "      background-color: #E2EBFA;\n",
              "      box-shadow: 0px 1px 2px rgba(60, 64, 67, 0.3), 0px 1px 3px 1px rgba(60, 64, 67, 0.15);\n",
              "      fill: #174EA6;\n",
              "    }\n",
              "\n",
              "    .colab-df-buttons div {\n",
              "      margin-bottom: 4px;\n",
              "    }\n",
              "\n",
              "    [theme=dark] .colab-df-convert {\n",
              "      background-color: #3B4455;\n",
              "      fill: #D2E3FC;\n",
              "    }\n",
              "\n",
              "    [theme=dark] .colab-df-convert:hover {\n",
              "      background-color: #434B5C;\n",
              "      box-shadow: 0px 1px 3px 1px rgba(0, 0, 0, 0.15);\n",
              "      filter: drop-shadow(0px 1px 2px rgba(0, 0, 0, 0.3));\n",
              "      fill: #FFFFFF;\n",
              "    }\n",
              "  </style>\n",
              "\n",
              "    <script>\n",
              "      const buttonEl =\n",
              "        document.querySelector('#df-f9b59be5-7d88-4deb-a2fc-ad1a6d33759f button.colab-df-convert');\n",
              "      buttonEl.style.display =\n",
              "        google.colab.kernel.accessAllowed ? 'block' : 'none';\n",
              "\n",
              "      async function convertToInteractive(key) {\n",
              "        const element = document.querySelector('#df-f9b59be5-7d88-4deb-a2fc-ad1a6d33759f');\n",
              "        const dataTable =\n",
              "          await google.colab.kernel.invokeFunction('convertToInteractive',\n",
              "                                                    [key], {});\n",
              "        if (!dataTable) return;\n",
              "\n",
              "        const docLinkHtml = 'Like what you see? Visit the ' +\n",
              "          '<a target=\"_blank\" href=https://colab.research.google.com/notebooks/data_table.ipynb>data table notebook</a>'\n",
              "          + ' to learn more about interactive tables.';\n",
              "        element.innerHTML = '';\n",
              "        dataTable['output_type'] = 'display_data';\n",
              "        await google.colab.output.renderOutput(dataTable, element);\n",
              "        const docLink = document.createElement('div');\n",
              "        docLink.innerHTML = docLinkHtml;\n",
              "        element.appendChild(docLink);\n",
              "      }\n",
              "    </script>\n",
              "  </div>\n",
              "\n",
              "\n",
              "<div id=\"df-ed273120-18a3-4cec-bcc7-4bc5daace57c\">\n",
              "  <button class=\"colab-df-quickchart\" onclick=\"quickchart('df-ed273120-18a3-4cec-bcc7-4bc5daace57c')\"\n",
              "            title=\"Suggest charts\"\n",
              "            style=\"display:none;\">\n",
              "\n",
              "<svg xmlns=\"http://www.w3.org/2000/svg\" height=\"24px\"viewBox=\"0 0 24 24\"\n",
              "     width=\"24px\">\n",
              "    <g>\n",
              "        <path d=\"M19 3H5c-1.1 0-2 .9-2 2v14c0 1.1.9 2 2 2h14c1.1 0 2-.9 2-2V5c0-1.1-.9-2-2-2zM9 17H7v-7h2v7zm4 0h-2V7h2v10zm4 0h-2v-4h2v4z\"/>\n",
              "    </g>\n",
              "</svg>\n",
              "  </button>\n",
              "\n",
              "<style>\n",
              "  .colab-df-quickchart {\n",
              "      --bg-color: #E8F0FE;\n",
              "      --fill-color: #1967D2;\n",
              "      --hover-bg-color: #E2EBFA;\n",
              "      --hover-fill-color: #174EA6;\n",
              "      --disabled-fill-color: #AAA;\n",
              "      --disabled-bg-color: #DDD;\n",
              "  }\n",
              "\n",
              "  [theme=dark] .colab-df-quickchart {\n",
              "      --bg-color: #3B4455;\n",
              "      --fill-color: #D2E3FC;\n",
              "      --hover-bg-color: #434B5C;\n",
              "      --hover-fill-color: #FFFFFF;\n",
              "      --disabled-bg-color: #3B4455;\n",
              "      --disabled-fill-color: #666;\n",
              "  }\n",
              "\n",
              "  .colab-df-quickchart {\n",
              "    background-color: var(--bg-color);\n",
              "    border: none;\n",
              "    border-radius: 50%;\n",
              "    cursor: pointer;\n",
              "    display: none;\n",
              "    fill: var(--fill-color);\n",
              "    height: 32px;\n",
              "    padding: 0;\n",
              "    width: 32px;\n",
              "  }\n",
              "\n",
              "  .colab-df-quickchart:hover {\n",
              "    background-color: var(--hover-bg-color);\n",
              "    box-shadow: 0 1px 2px rgba(60, 64, 67, 0.3), 0 1px 3px 1px rgba(60, 64, 67, 0.15);\n",
              "    fill: var(--button-hover-fill-color);\n",
              "  }\n",
              "\n",
              "  .colab-df-quickchart-complete:disabled,\n",
              "  .colab-df-quickchart-complete:disabled:hover {\n",
              "    background-color: var(--disabled-bg-color);\n",
              "    fill: var(--disabled-fill-color);\n",
              "    box-shadow: none;\n",
              "  }\n",
              "\n",
              "  .colab-df-spinner {\n",
              "    border: 2px solid var(--fill-color);\n",
              "    border-color: transparent;\n",
              "    border-bottom-color: var(--fill-color);\n",
              "    animation:\n",
              "      spin 1s steps(1) infinite;\n",
              "  }\n",
              "\n",
              "  @keyframes spin {\n",
              "    0% {\n",
              "      border-color: transparent;\n",
              "      border-bottom-color: var(--fill-color);\n",
              "      border-left-color: var(--fill-color);\n",
              "    }\n",
              "    20% {\n",
              "      border-color: transparent;\n",
              "      border-left-color: var(--fill-color);\n",
              "      border-top-color: var(--fill-color);\n",
              "    }\n",
              "    30% {\n",
              "      border-color: transparent;\n",
              "      border-left-color: var(--fill-color);\n",
              "      border-top-color: var(--fill-color);\n",
              "      border-right-color: var(--fill-color);\n",
              "    }\n",
              "    40% {\n",
              "      border-color: transparent;\n",
              "      border-right-color: var(--fill-color);\n",
              "      border-top-color: var(--fill-color);\n",
              "    }\n",
              "    60% {\n",
              "      border-color: transparent;\n",
              "      border-right-color: var(--fill-color);\n",
              "    }\n",
              "    80% {\n",
              "      border-color: transparent;\n",
              "      border-right-color: var(--fill-color);\n",
              "      border-bottom-color: var(--fill-color);\n",
              "    }\n",
              "    90% {\n",
              "      border-color: transparent;\n",
              "      border-bottom-color: var(--fill-color);\n",
              "    }\n",
              "  }\n",
              "</style>\n",
              "\n",
              "  <script>\n",
              "    async function quickchart(key) {\n",
              "      const quickchartButtonEl =\n",
              "        document.querySelector('#' + key + ' button');\n",
              "      quickchartButtonEl.disabled = true;  // To prevent multiple clicks.\n",
              "      quickchartButtonEl.classList.add('colab-df-spinner');\n",
              "      try {\n",
              "        const charts = await google.colab.kernel.invokeFunction(\n",
              "            'suggestCharts', [key], {});\n",
              "      } catch (error) {\n",
              "        console.error('Error during call to suggestCharts:', error);\n",
              "      }\n",
              "      quickchartButtonEl.classList.remove('colab-df-spinner');\n",
              "      quickchartButtonEl.classList.add('colab-df-quickchart-complete');\n",
              "    }\n",
              "    (() => {\n",
              "      let quickchartButtonEl =\n",
              "        document.querySelector('#df-ed273120-18a3-4cec-bcc7-4bc5daace57c button');\n",
              "      quickchartButtonEl.style.display =\n",
              "        google.colab.kernel.accessAllowed ? 'block' : 'none';\n",
              "    })();\n",
              "  </script>\n",
              "</div>\n",
              "\n",
              "    </div>\n",
              "  </div>\n"
            ],
            "application/vnd.google.colaboratory.intrinsic+json": {
              "type": "dataframe",
              "summary": "{\n  \"name\": \"developer(\\\"Valve\\\")\",\n  \"rows\": 17,\n  \"fields\": [\n    {\n      \"column\": \"a\\u00f1o\",\n      \"properties\": {\n        \"dtype\": \"number\",\n        \"std\": 5,\n        \"min\": 1998,\n        \"max\": 2017,\n        \"num_unique_values\": 17,\n        \"samples\": [\n          1998,\n          1999,\n          2004\n        ],\n        \"semantic_type\": \"\",\n        \"description\": \"\"\n      }\n    },\n    {\n      \"column\": \"app_name\",\n      \"properties\": {\n        \"dtype\": \"number\",\n        \"std\": 1,\n        \"min\": 1,\n        \"max\": 7,\n        \"num_unique_values\": 5,\n        \"samples\": [\n          2,\n          7,\n          5\n        ],\n        \"semantic_type\": \"\",\n        \"description\": \"\"\n      }\n    },\n    {\n      \"column\": \"free\",\n      \"properties\": {\n        \"dtype\": \"number\",\n        \"std\": 26.96506607140606,\n        \"min\": 0.0,\n        \"max\": 100.0,\n        \"num_unique_values\": 4,\n        \"samples\": [\n          33.33,\n          100.0,\n          0.0\n        ],\n        \"semantic_type\": \"\",\n        \"description\": \"\"\n      }\n    }\n  ]\n}"
            }
          },
          "metadata": {},
          "execution_count": 13
        }
      ]
    },
    {
      "cell_type": "code",
      "source": [
        "\"\"\"\n",
        "  cantidad de dinero gastado por el usuario, porcentaje de recomendación en base a reviews.recommend y cantidad de items\n",
        "\"\"\"\n",
        "def userdata(user: str):\n",
        "  #Obtener la información del usuario y los items\n",
        "  df = pd.merge(juegos, items, on='item_id')\n",
        "  df = df[df[\"user_id\"] == user]\n",
        "  df = pd.merge(df, reviews, on=['item_id', 'user_id'])\n",
        "  df = df[[\"price\", \"app_name\", \"recommend\"]]\n",
        "\n",
        "  #Obtener el total de dinero gastado, número de items y número de items recomendados\n",
        "  precio = df.price.sum()\n",
        "  cantidad = df.app_name.count()\n",
        "  recomendacion = df.recommend.sum() / cantidad * 100\n",
        "\n",
        "  return {\n",
        "      \"Usuario\": user,\n",
        "      \"Dinero gastado\": f\"{precio} USD\",\n",
        "      \"Cantidad de items\": cantidad,\n",
        "      \"Porcentaje de recomendación\": f\"{recomendacion}%\"\n",
        "  }\n",
        "\n",
        "userdata(\"js41637\")"
      ],
      "metadata": {
        "id": "uLpKMgz97eAj",
        "colab": {
          "base_uri": "https://localhost:8080/"
        },
        "outputId": "5a2829ea-364c-41ef-babd-f9eaf5a6a309"
      },
      "execution_count": 14,
      "outputs": [
        {
          "output_type": "execute_result",
          "data": {
            "text/plain": [
              "{'Usuario': 'js41637',\n",
              " 'Dinero gastado': '29.979999999999997 USD',\n",
              " 'Cantidad de items': 2,\n",
              " 'Porcentaje de recomendación': '100.0%'}"
            ]
          },
          "metadata": {},
          "execution_count": 14
        }
      ]
    },
    {
      "cell_type": "code",
      "source": [
        "\"\"\"\n",
        "  Devolver el  año con más horas jugadas para un género dado.\n",
        "  Input: genero, string\n",
        "  Output: año, dict\n",
        "\"\"\"\n",
        "def play_time_genre(genero: str):\n",
        "  #Obtener la información de los juegos y los items (que contiene las horas jugadas por juego y por usuario)\n",
        "  df = pd.merge(juegos, items, on='item_id')\n",
        "\n",
        "  # - Filtrar por el género dado y seleccionar las columnas año y playtime_forever (horas totales jugadas)\n",
        "  # - Agrupar por año y sumar las horas jugadas por año\n",
        "  # - Ordenar por horas jugadas de mayor a menor y seleccionar el primer elemento (año con más horas jugadas)\n",
        "  df = df[df.genres.str.contains(genero)][[\"año\", \"playtime_forever\"]]\\\n",
        "  .groupby(\"año\").sum()\\\n",
        "  .sort_values(by=\"playtime_forever\", ascending=False)\\\n",
        "  .reset_index()\n",
        "  df.año = df.año.astype(int)\n",
        "\n",
        "  #Año con más horas jugadas\n",
        "  a = int(df.iloc[0][\"año\"])\n",
        "\n",
        "  #Retorno\n",
        "  return {f\"Año de lanzamiento con más horas jugadas para Género {genero}\":a}\n",
        "\n",
        "play_time_genre(\"Action\")"
      ],
      "metadata": {
        "id": "tSJWQ4ZMAqDI",
        "colab": {
          "base_uri": "https://localhost:8080/"
        },
        "outputId": "9732daa4-d11e-4d22-c5e7-7d0dc8ae6194"
      },
      "execution_count": 15,
      "outputs": [
        {
          "output_type": "execute_result",
          "data": {
            "text/plain": [
              "{'Año de lanzamiento con más horas jugadas para Género Action': 2012}"
            ]
          },
          "metadata": {},
          "execution_count": 15
        }
      ]
    },
    {
      "cell_type": "code",
      "source": [
        "\"\"\"\n",
        "|  Devolver el usuario con más horas jugadas para un género dado.\n",
        "|  Input: genero, string\n",
        "|  Output: usuario, dict\n",
        "\"\"\"\n",
        "def user_for_genre(genero: str):\n",
        "  #Obtener la información de los juegos y los items (que contiene las horas jugadas por juego y por usuario)\n",
        "  df = pd.merge(juegos, items, on='item_id')\n",
        "\n",
        "  # - Filtrar por el género dado y seleccionar las columnas user_id, año y playtime_forever (horas totales jugadas)\n",
        "  # - Agrupar por año y sumar las horas jugadas por año\n",
        "  df = df[df.genres.str.contains(genero)][[\"user_id\", \"año\", \"playtime_forever\"]]\\\n",
        "  .groupby([\"año\", \"user_id\"]).sum().reset_index()\n",
        "  df[\"año\"] = df[\"año\"].astype(int)\n",
        "\n",
        "  # Obtener la suma del tiempo jugado por usuario\n",
        "  sum_usr = df.groupby(\"user_id\")[\"playtime_forever\"].sum().sort_values(ascending=False)\n",
        "  # Obtener el usuario con más horas jugadas\n",
        "  max_usr = sum_usr.idxmax()\n",
        "\n",
        "  #Obtener las horas jugadas por el usuario en cada año y ordenar por año\n",
        "  df = df[df.user_id == max_usr].loc[:,[\"año\", \"playtime_forever\"]]\\\n",
        "  .set_index(\"año\").sort_index()\n",
        "  horas = [{\"Año\":row.año, \"Horas\":row.playtime_forever} for row in df.reset_index().itertuples()]\n",
        "\n",
        "  #Retornar el usuario y las horas jugadas por año como un diccionario\n",
        "  return {\n",
        "      \"Usuario con más horas jugadas\": f\"{max_usr}\",\n",
        "      \"Horas jugadas por año\": horas\n",
        "  }\n",
        "\n",
        "user_for_genre(\"Action\")"
      ],
      "metadata": {
        "id": "megmDHrvDaDX",
        "colab": {
          "base_uri": "https://localhost:8080/"
        },
        "outputId": "b58eac7f-6db5-491c-bfd5-54e8adbe7818"
      },
      "execution_count": 20,
      "outputs": [
        {
          "output_type": "execute_result",
          "data": {
            "text/plain": [
              "{'Usuario con más horas jugadas': 'Sp3ctre',\n",
              " 'Horas jugadas por año': [{'Año': 1970, 'Horas': 1657},\n",
              "  {'Año': 1993, 'Horas': 0},\n",
              "  {'Año': 1995, 'Horas': 217},\n",
              "  {'Año': 1996, 'Horas': 0},\n",
              "  {'Año': 1998, 'Horas': 0},\n",
              "  {'Año': 1999, 'Horas': 44},\n",
              "  {'Año': 2000, 'Horas': 70644},\n",
              "  {'Año': 2001, 'Horas': 13},\n",
              "  {'Año': 2002, 'Horas': 238},\n",
              "  {'Año': 2003, 'Horas': 7673},\n",
              "  {'Año': 2004, 'Horas': 127411},\n",
              "  {'Año': 2005, 'Horas': 21339},\n",
              "  {'Año': 2006, 'Horas': 896},\n",
              "  {'Año': 2007, 'Horas': 112784},\n",
              "  {'Año': 2008, 'Horas': 224},\n",
              "  {'Año': 2009, 'Horas': 108326},\n",
              "  {'Año': 2010, 'Horas': 78083},\n",
              "  {'Año': 2011, 'Horas': 154896},\n",
              "  {'Año': 2012, 'Horas': 379522},\n",
              "  {'Año': 2013, 'Horas': 202746},\n",
              "  {'Año': 2014, 'Horas': 130691},\n",
              "  {'Año': 2015, 'Horas': 313172},\n",
              "  {'Año': 2016, 'Horas': 29576},\n",
              "  {'Año': 2017, 'Horas': 43327}]}"
            ]
          },
          "metadata": {},
          "execution_count": 20
        }
      ]
    },
    {
      "cell_type": "code",
      "source": [
        "\"\"\"\n",
        "  Top 3 de juegos recomendados por usuarios para el año dado.\n",
        "  Input: año, int\n",
        "\"\"\"\n",
        "def users_recommend(año: int):\n",
        "  #Obtener la información de los juegos y las reviews (que contiene las recomendaciones y el análisis de sentimientos)\n",
        "  df = pd.merge(juegos, reviews, on='item_id')\n",
        "\n",
        "  #Obtener las columnas necesarias\n",
        "  df = df[df[\"año\"] == año][[\"app_name\", \"recommend\", \"sentiment_analysis\"]]\n",
        "  #Filtrar los juegos recomendados y con reseñas positivas o neutrales\n",
        "  mask = (df[\"recommend\"] == True) & (df[\"sentiment_analysis\"] > 0)\n",
        "  df = df[mask]\n",
        "\n",
        "  #Contar las recomendaciones por juego y ordenar\n",
        "  df = df.groupby(\"app_name\").count().sort_values(by=\"sentiment_analysis\", ascending=False).reset_index()\n",
        "\n",
        "  #Guardar los tres juegos más recomendados y retornar\n",
        "  return [\n",
        "      {\"Puesto 1\": f\"{df.iloc[0]['app_name']}\"},\n",
        "      {\"Puesto 2\": f\"{df.iloc[1]['app_name']}\"},\n",
        "      {\"Puesto 3\": f\"{df.iloc[2]['app_name']}\"}\n",
        "  ]\n",
        "\n",
        "users_recommend(2018)"
      ],
      "metadata": {
        "id": "8-_IDfFODfL8",
        "colab": {
          "base_uri": "https://localhost:8080/"
        },
        "outputId": "fcb60b30-9426-4fbd-a694-20dd425cdd2c"
      },
      "execution_count": 21,
      "outputs": [
        {
          "output_type": "execute_result",
          "data": {
            "text/plain": [
              "[{'Puesto 1': 'Subnautica'},\n",
              " {'Puesto 2': 'DCS World'},\n",
              " {'Puesto 3': 'VR Regatta - The Sailing Game'}]"
            ]
          },
          "metadata": {},
          "execution_count": 21
        }
      ]
    },
    {
      "cell_type": "code",
      "source": [
        "\"\"\"\n",
        "  Top 3 de desarrolladores con juegos MÁS recomendados por usuarios para el año dado.\n",
        "  Input: año, int\n",
        "\"\"\"\n",
        "def best_developer_year(año: int):\n",
        "  #Obtener la información de los juegos y las reviews (que contiene las recomendaciones y el análisis de sentimientos)\n",
        "  df = pd.merge(juegos, reviews, on='item_id')\n",
        "\n",
        "  #Obtener las columnas necesarias\n",
        "  df = df[df[\"año\"] == año][[\"developer\", \"recommend\", \"sentiment_analysis\"]]\n",
        "  #Filtrar los juegos recomendados y con reseñas positivas o neutrales\n",
        "  mask = (df[\"recommend\"] == True) & (df[\"sentiment_analysis\"] > 0)\n",
        "  df = df[mask]\n",
        "\n",
        "  #Contar las recomendaciones por desarrollador y ordenar\n",
        "  df = df.groupby(\"developer\").count().sort_values(by=\"sentiment_analysis\", ascending=False).reset_index()\n",
        "  #Guardar los tres desarrolladores más recomendados y retornar\n",
        "  return [\n",
        "      {\"Puesto 1\": f\"{df.iloc[0]['developer']}\"},\n",
        "      {\"Puesto 2\": f\"{df.iloc[1]['developer']}\"},\n",
        "      {\"Puesto 3\": f\"{df.iloc[2]['developer']}\"}\n",
        "  ]\n",
        "\n",
        "best_developer_year(2018)"
      ],
      "metadata": {
        "id": "uvhD7DADESIv",
        "colab": {
          "base_uri": "https://localhost:8080/"
        },
        "outputId": "2dbd2bdd-ba24-4953-f161-c530e46a7689"
      },
      "execution_count": 22,
      "outputs": [
        {
          "output_type": "execute_result",
          "data": {
            "text/plain": [
              "[{'Puesto 1': 'Unknown Worlds Entertainment '},\n",
              " {'Puesto 2': 'Eagle Dynamics SA '},\n",
              " {'Puesto 3': 'MarineVerse '}]"
            ]
          },
          "metadata": {},
          "execution_count": 22
        }
      ]
    },
    {
      "cell_type": "code",
      "source": [
        "\"\"\"\n",
        "  Resumen de la cantidad de reseñas positivas, neutrales y negativas por año.\n",
        "  Input: año, int\n",
        "\"\"\"\n",
        "def developer_reviews_analysis(dev: str):\n",
        "  #Obtener la información de los juegos y las reviews (que contiene las recomendaciones y el análisis de sentimientos)\n",
        "  df = pd.merge(juegos, reviews, on='item_id')\n",
        "\n",
        "  #Obtener las columnas necesarias\n",
        "  df = df[df[\"developer\"] == dev][[\"sentiment_analysis\"]].value_counts()\n",
        "  df.index = [\"Positive\", \"Neutral\", \"Negative\"]\n",
        "\n",
        "  #Retornar el resumen como un diccionario\n",
        "  puntajes = []\n",
        "  for i in df.index:\n",
        "    puntajes.append(f\"{i} = {df[i]}\")\n",
        "  return {f\"{dev}\":puntajes}\n",
        "\n",
        "developer_reviews_analysis(\"Valve\")"
      ],
      "metadata": {
        "id": "oRszdMAkEWh9",
        "colab": {
          "base_uri": "https://localhost:8080/"
        },
        "outputId": "894ac495-5f8d-46e3-a8b8-a63a25813b9e"
      },
      "execution_count": 23,
      "outputs": [
        {
          "output_type": "execute_result",
          "data": {
            "text/plain": [
              "{'Valve': ['Positive = 5054', 'Neutral = 3825', 'Negative = 703']}"
            ]
          },
          "metadata": {},
          "execution_count": 23
        }
      ]
    },
    {
      "cell_type": "code",
      "source": [],
      "metadata": {
        "id": "UudFLt4KgecK"
      },
      "execution_count": null,
      "outputs": []
    }
  ]
}